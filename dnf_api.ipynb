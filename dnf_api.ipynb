{
 "cells": [
  {
   "cell_type": "code",
   "execution_count": 1,
   "metadata": {},
   "outputs": [],
   "source": [
    "import requests\n",
    "import json\n",
    "from tqdm import tqdm\n",
    "import time\n",
    "import os\n",
    "import pandas as pd\n",
    "import logging\n",
    "\n",
    "logging.basicConfig(filename='searched_file_names.log', level=logging.INFO)"
   ]
  },
  {
   "cell_type": "code",
   "execution_count": 2,
   "metadata": {},
   "outputs": [],
   "source": [
    "api_key = 'Enter Your Neople API-KEY'"
   ]
  },
  {
   "cell_type": "code",
   "execution_count": 3,
   "metadata": {},
   "outputs": [],
   "source": [
    "def get_creature_data(info):\n",
    "    serverId = info['server']\n",
    "    characterId = info['character_ids']\n",
    "    base_url = f'https://api.neople.co.kr/df/servers/{serverId}/characters/{characterId}/equip/creature?apikey={api_key}'\n",
    "    \n",
    "    try:\n",
    "        res = requests.get(base_url)\n",
    "    except:\n",
    "        time.sleep(3)\n",
    "        res = requests.get(base_url)\n",
    "    \n",
    "    if res.status_code == 200:\n",
    "        return res\n",
    "    \n",
    "    return "
   ]
  },
  {
   "cell_type": "code",
   "execution_count": 4,
   "metadata": {},
   "outputs": [],
   "source": [
    "def check_searched_job():\n",
    "    log_file_path = './searched_file_names.log'\n",
    "    try:\n",
    "        with open(log_file_path, 'r') as file:\n",
    "            log_contents = file.read()\n",
    "            searched_files = log_contents.replace('INFO:root:', '').split('\\n')\n",
    "    except FileNotFoundError:\n",
    "        searched_files = []\n",
    "    except Exception as e:\n",
    "        searched_files = []\n",
    "    \n",
    "    return searched_files"
   ]
  },
  {
   "cell_type": "code",
   "execution_count": null,
   "metadata": {},
   "outputs": [],
   "source": [
    "# 아라드 패스1\n",
    "\n",
    "# user_create_data = pd.read_csv('./data/creature/user_creature_data.csv')\n"
   ]
  },
  {
   "cell_type": "code",
   "execution_count": null,
   "metadata": {},
   "outputs": [],
   "source": [
    "# # 아라드 패스2\n",
    "# import pandas as pd\n",
    "# import os\n",
    "\n",
    "# df = pd.read_csv('/Users/seokholee/이모저모/dnf/data/creature/user_creature_data_s2.csv')\n",
    "# path = '/Users/seokholee/이모저모/dnf/data/creature/s2/'\n",
    "\n",
    "\n",
    "# add_df = pd.concat(\n",
    "#     [pd.read_csv(path+file_name, encoding='utf-8') for file_name in os.listdir(path)],\n",
    "# )\n",
    "# add_df.drop_duplicates().reset_index(drop=True).to_csv('/Users/seokholee/이모저모/dnf/data/creature/user_creature_data_s2.csv')"
   ]
  },
  {
   "cell_type": "code",
   "execution_count": 1,
   "metadata": {},
   "outputs": [],
   "source": [
    "# # 0425\n",
    "# import pandas as pd\n",
    "# import os\n",
    "\n",
    "# path = '/Users/seokholee/이모저모/dnf/data/creature/s3/'\n",
    "\n",
    "\n",
    "# add_df = pd.concat(\n",
    "#     [pd.read_csv(path+file_name, encoding='utf-8') for file_name in os.listdir(path)],\n",
    "# )\n",
    "# add_df.drop_duplicates().reset_index(drop=True).to_csv('/Users/seokholee/이모저모/dnf/data/creature/user_creature_data_0425.csv')"
   ]
  },
  {
   "cell_type": "code",
   "execution_count": 5,
   "metadata": {},
   "outputs": [
    {
     "name": "stdout",
     "output_type": "stream",
     "text": [
      "Start GET API :  眞 다크 랜서_user_info.csv\n"
     ]
    },
    {
     "name": "stderr",
     "output_type": "stream",
     "text": [
      "1365it [01:00, 24.78it/s]"
     ]
    }
   ],
   "source": [
    "path = '/Users/seokholee/이모저모/dnf/data/user_infos/2024PASS_S1/user_info_div/'\n",
    "file_names = [name for name in os.listdir(path) if '.csv' in name]\n",
    "\n",
    "for file_name in file_names:\n",
    "    searched_files = check_searched_job()\n",
    "    if file_name in searched_files : continue\n",
    "    user_info = pd.read_csv(path + file_name)\n",
    "    \n",
    "    df_data = []\n",
    "    print('Start GET API : ', file_name)\n",
    "    for idx, row in tqdm(user_info.iterrows()):\n",
    "        output = get_creature_data(row)\n",
    "        if not output : continue\n",
    "        \n",
    "        creature_info = output.json()['creature']\n",
    "        if not creature_info : continue # 크리처가 없는 유저\n",
    "        \n",
    "        user_data = [row['server'], row['character_ids']]\n",
    "        for col in ['itemId', 'itemName', 'itemRarity', 'clone']:\n",
    "            clone_itemId, clone_itemName = '', ''\n",
    "            \n",
    "            if col == 'clone':\n",
    "                if len(creature_info[col]):\n",
    "                    user_data.append(creature_info[col]['itemId']), \n",
    "                    user_data.append(creature_info[col]['itemName'])\n",
    "            else:\n",
    "                user_data.append(creature_info[col])\n",
    "                \n",
    "        df_data.append(user_data)\n",
    "        \n",
    "    df = pd.DataFrame(df_data,\n",
    "                      columns= ['serverId','characterId','itemId', 'itemName', 'itemRarity', 'clone_itemId', 'clone_itemName'])\n",
    "    \n",
    "    save_path = './data/creature/s3/'\n",
    "    # user_create_data = pd.concat([user_create_data,df]).drop_duplicates(subset=['serverId', 'characterId']).reset_index(drop=True)\n",
    "    df.to_csv(save_path+file_name, index=False)\n",
    "    logging.info(file_name)"
   ]
  },
  {
   "cell_type": "code",
   "execution_count": null,
   "metadata": {},
   "outputs": [],
   "source": [
    "def get_item_detail_info(itemId):\n",
    "    url = f'https://api.neople.co.kr/df/items/{itemId}?apikey={api_key}'\n",
    "    \n",
    "    res = requests.get(url)\n",
    "    \n",
    "    if res.status_code == 200:\n",
    "        return res\n",
    "    \n",
    "    return \n",
    "# res = get_item_detail_info(df.iloc[0]['itemId'])"
   ]
  },
  {
   "cell_type": "code",
   "execution_count": null,
   "metadata": {},
   "outputs": [],
   "source": [
    "df = pd.read_csv('/Users/seokholee/lsh/Project/dnf_creature/dnf_project/data/creature/user_creature_data.csv')"
   ]
  },
  {
   "cell_type": "code",
   "execution_count": null,
   "metadata": {},
   "outputs": [],
   "source": [
    "del_cols = ['itemId','itemRarity', 'itemTypeId', 'itemType',\n",
    "       'itemTypeDetailId', 'itemTypeDetail', 'itemAvailableLevel',\n",
    "       'itemExplain', 'itemExplainDetail', 'itemFlavorText', 'obtainInfo',\n",
    "       'setItemId', 'setItemName', 'itemReinforceSkill', 'creatureInfo']"
   ]
  },
  {
   "cell_type": "code",
   "execution_count": null,
   "metadata": {},
   "outputs": [],
   "source": [
    "creature_infos = []\n",
    "for name in pd.DataFrame(df['itemName'].value_counts()).index:\n",
    "    itemId = (df[df['itemName'] == name]['itemId'].iloc[0])\n",
    "    data = (get_item_detail_info(itemId))\n",
    "    data = ({key : value for key, value in data.json().items() if key not in del_cols})\n",
    "    for status in data['itemStatus']:\n",
    "        data[status['name']] = status['value']\n",
    "    del data['itemStatus']\n",
    "    tmp = pd.DataFrame(data, index=[0])\n",
    "    creature_infos.append(tmp)"
   ]
  },
  {
   "cell_type": "code",
   "execution_count": null,
   "metadata": {},
   "outputs": [],
   "source": [
    "creatures = pd.concat(creature_infos).reset_index(drop=True)\n",
    "creatures"
   ]
  },
  {
   "cell_type": "code",
   "execution_count": null,
   "metadata": {},
   "outputs": [],
   "source": [
    "creatures.to_csv('./data/creature/active_creature_infos.csv', index=False)"
   ]
  },
  {
   "cell_type": "code",
   "execution_count": null,
   "metadata": {},
   "outputs": [],
   "source": []
  },
  {
   "cell_type": "code",
   "execution_count": null,
   "metadata": {},
   "outputs": [],
   "source": [
    "creature_infos = []\n",
    "for name in pd.DataFrame(df['clone_itemName'].value_counts()).index:\n",
    "    itemId = (df[df['clone_itemName'] == name]['clone_itemId'].iloc[0])\n",
    "    data = (get_item_detail_info(itemId))\n",
    "    data = ({key : value for key, value in data.json().items() if key in del_cols})\n",
    "    for status in data['itemStatus']:\n",
    "        data[status['name']] = status['value']\n",
    "    del data['itemStatus']\n",
    "    tmp = pd.DataFrame(data, index=[0])\n",
    "    creature_infos.append(tmp)"
   ]
  },
  {
   "cell_type": "code",
   "execution_count": null,
   "metadata": {},
   "outputs": [],
   "source": [
    "creatures = pd.concat(creature_infos).reset_index(drop=True)\n",
    "creatures"
   ]
  },
  {
   "cell_type": "code",
   "execution_count": null,
   "metadata": {},
   "outputs": [],
   "source": [
    "creatures.to_csv('./data/creature/clone_creature_infos.csv', index=False)"
   ]
  },
  {
   "cell_type": "code",
   "execution_count": null,
   "metadata": {},
   "outputs": [],
   "source": []
  },
  {
   "cell_type": "code",
   "execution_count": null,
   "metadata": {},
   "outputs": [],
   "source": [
    "def get_item_sold_price(itemId):\n",
    "    \n",
    "    base_url = f'https://api.neople.co.kr/df/auction-sold?itemId={itemId}&wordType=mathch&wordShort=true&limit=100&apikey={api_key}'\n",
    "    \n",
    "    res = requests.get(base_url)\n",
    "    \n",
    "    if res.status_code == 200:\n",
    "        return res\n",
    "    \n",
    "    return "
   ]
  },
  {
   "cell_type": "code",
   "execution_count": null,
   "metadata": {},
   "outputs": [],
   "source": [
    "user = pd.read_csv('./data/user_infos_10000.csv')"
   ]
  },
  {
   "cell_type": "code",
   "execution_count": null,
   "metadata": {},
   "outputs": [],
   "source": [
    "user.head()"
   ]
  },
  {
   "cell_type": "code",
   "execution_count": null,
   "metadata": {},
   "outputs": [],
   "source": [
    "def get_character_info(row):\n",
    "    serverId = row['server']\n",
    "    character_id = row['character_ids']\n",
    "    \n",
    "    base_url = f'https://api.neople.co.kr/df/servers/{serverId}/characters/{character_id}?apikey={api_key}'\n",
    "    \n",
    "    try:\n",
    "        try:\n",
    "            res = requests.get(base_url)\n",
    "        except:\n",
    "            time.sleep(3)\n",
    "            res = requests.get(base_url)\n",
    "    except:    \n",
    "        return \n",
    "    \n",
    "    if res.status_code == 200:\n",
    "        return res\n",
    "    \n",
    "    return "
   ]
  },
  {
   "cell_type": "code",
   "execution_count": null,
   "metadata": {},
   "outputs": [],
   "source": [
    "adven_list = []\n",
    "find_fail = 0"
   ]
  },
  {
   "cell_type": "code",
   "execution_count": null,
   "metadata": {},
   "outputs": [],
   "source": [
    "for idx, row in tqdm(user.iterrows()):\n",
    "    if idx < len(adven_list): continue\n",
    "    \n",
    "    \n",
    "    res = get_character_info(row)\n",
    "    \n",
    "    adven_name = res.json()['adventureName'] if res else ''\n",
    "    \n",
    "    if adven_name == '' : find_fail+=1\n",
    "    \n",
    "    adven_list.append(adven_name)\n",
    "    "
   ]
  },
  {
   "cell_type": "code",
   "execution_count": null,
   "metadata": {},
   "outputs": [],
   "source": [
    "user['adventureName'] = adven_list\n",
    "user.head()"
   ]
  },
  {
   "cell_type": "code",
   "execution_count": null,
   "metadata": {},
   "outputs": [],
   "source": [
    "user.tail()"
   ]
  },
  {
   "cell_type": "code",
   "execution_count": null,
   "metadata": {},
   "outputs": [],
   "source": [
    "user.to_csv('./data/user_infos_10000.csv', index=False)"
   ]
  },
  {
   "cell_type": "code",
   "execution_count": null,
   "metadata": {},
   "outputs": [],
   "source": []
  },
  {
   "cell_type": "code",
   "execution_count": null,
   "metadata": {},
   "outputs": [],
   "source": []
  },
  {
   "cell_type": "code",
   "execution_count": null,
   "metadata": {},
   "outputs": [],
   "source": [
    "from datetime import datetime, timedelta\n",
    "\n",
    "def get_char_history(serverId, characterId, limit = 100, codes = [201,209], search_date = 90):\n",
    "    \"\"\"\n",
    "    Args:\n",
    "        serverId (_type_): _description_\n",
    "        characterId (_type_): _description_\n",
    "        limit (int, optional): _description_. Defaults to 100.\n",
    "        codes (list, optional): _description_. Defaults to [201,209]. 201 - 레이드, 209 - 레기온\n",
    "        search_date (int, optional): _description_. Defaults to 90.\n",
    "        next (str, optional): _description_. Defaults to ''.\n",
    "    \"\"\"\n",
    "    \n",
    "    \n",
    "    def get_90_days_ago(today ,search_date):\n",
    "        return (today - timedelta(days=search_date)).strftime('%Y%m%dT%H%M')\n",
    "\n",
    "\n",
    "    today = datetime.now()\n",
    "    endDate = today.strftime('%Y%m%dT%H%M')\n",
    "    startDate = get_90_days_ago(today, search_date)\n",
    "    \n",
    "    for code in codes:\n",
    "        url = f'https://api.neople.co.kr/df/servers/{serverId}/characters/{characterId}/timeline?limit={limit}&code={code}&startDate={startDate}&endDate={endDate}&apikey={api_key}'\n",
    "    \n",
    "        \n",
    "        res = requests.get(url)\n",
    "        \n",
    "        if 'timeline' not in list(res.json().keys()) : continue\n",
    "\n",
    "        tmp = []\n",
    "        for row in res.json()['timeline']['rows']:\n",
    "            data = dict()\n",
    "            data['server'] = serverId\n",
    "            data['characterId'] = characterId\n",
    "            data['code'] = row['code']\n",
    "            data['date'] = row['date']\n",
    "            for detail in row['data'].keys():\n",
    "                data[detail] = row['data'][detail]\n",
    "            tmp.append(data)\n",
    "        with open('data/raid_history/history.json', mode='a+', encoding='utf-8') as f:\n",
    "            json.dump(tmp, f)\n",
    "            \n",
    "for idx, row in tqdm(user_info.iterrows()):\n",
    "    get_char_history(row['server'], row['characterId'])\n"
   ]
  },
  {
   "cell_type": "code",
   "execution_count": null,
   "metadata": {},
   "outputs": [],
   "source": [
    "user_info = pd.read_csv('data/user_infos/2024PASS_S1/user_infos_10000.csv')"
   ]
  }
 ],
 "metadata": {
  "kernelspec": {
   "display_name": "dnf_project",
   "language": "python",
   "name": "python3"
  },
  "language_info": {
   "codemirror_mode": {
    "name": "ipython",
    "version": 3
   },
   "file_extension": ".py",
   "mimetype": "text/x-python",
   "name": "python",
   "nbconvert_exporter": "python",
   "pygments_lexer": "ipython3",
   "version": "3.12.2"
  }
 },
 "nbformat": 4,
 "nbformat_minor": 2
}
