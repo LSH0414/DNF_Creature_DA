{
 "cells": [
  {
   "cell_type": "code",
   "execution_count": null,
   "metadata": {},
   "outputs": [],
   "source": [
    "import pandas as pd\n",
    "import requests\n",
    "import matplotlib.pyplot as plt\n",
    "from matplotlib.ticker import FuncFormatter\n",
    "from matplotlib.dates import DateFormatter, WeekdayLocator\n",
    "from matplotlib import rc\n",
    "import seaborn as sns\n",
    "import numpy as np\n",
    "import numpy as np\n",
    "\n",
    "# Window\n",
    "plt.rcParams['font.family'] ='Malgun Gothic'\n",
    "plt.rcParams['axes.unicode_minus'] =False\n",
    "\n",
    "# Mac\n",
    "rc('font', family='AppleGothic')\n",
    "plt.rcParams['axes.unicode_minus'] = False"
   ]
  },
  {
   "cell_type": "code",
   "execution_count": null,
   "metadata": {},
   "outputs": [],
   "source": [
    "user = pd.read_csv('./data/user_infos_10000.csv')"
   ]
  },
  {
   "cell_type": "code",
   "execution_count": null,
   "metadata": {},
   "outputs": [],
   "source": [
    "df = pd.read_csv('./data/creature/user_creature_data.csv').drop_duplicates()"
   ]
  },
  {
   "cell_type": "code",
   "execution_count": null,
   "metadata": {},
   "outputs": [],
   "source": [
    "df['itemName'].nunique()"
   ]
  },
  {
   "cell_type": "code",
   "execution_count": null,
   "metadata": {},
   "outputs": [],
   "source": [
    "df['clone_itemName'].nunique()"
   ]
  },
  {
   "cell_type": "code",
   "execution_count": null,
   "metadata": {},
   "outputs": [],
   "source": [
    "df.head()"
   ]
  },
  {
   "cell_type": "code",
   "execution_count": null,
   "metadata": {},
   "outputs": [],
   "source": [
    "df.info()"
   ]
  },
  {
   "cell_type": "code",
   "execution_count": null,
   "metadata": {},
   "outputs": [],
   "source": [
    "df.columns"
   ]
  },
  {
   "cell_type": "code",
   "execution_count": null,
   "metadata": {},
   "outputs": [],
   "source": [
    "equ_creature = df[['serverId', 'characterId', 'itemId', 'itemName']]"
   ]
  },
  {
   "cell_type": "code",
   "execution_count": null,
   "metadata": {},
   "outputs": [],
   "source": [
    "clone_creature = df[['serverId', 'characterId', 'clone_itemId', 'clone_itemName']]"
   ]
  },
  {
   "cell_type": "code",
   "execution_count": null,
   "metadata": {},
   "outputs": [],
   "source": [
    "equ_creature['itemName'].value_counts()"
   ]
  },
  {
   "cell_type": "code",
   "execution_count": null,
   "metadata": {},
   "outputs": [],
   "source": [
    "cnt_df = pd.DataFrame(equ_creature['itemName'].value_counts()).reset_index()\n",
    "cnt_df.columns = ['itemName','cnt']\n",
    "\n",
    "plt.figure(figsize=(15,6))\n",
    "x_label = cnt_df[:15]['itemName']\n",
    "y_label = cnt_df[:15]['cnt']\n",
    "sns.barplot(x = x_label, y = y_label)\n",
    "plt.xticks(rotation=45)\n",
    "for idx, y in enumerate(y_label):\n",
    "    plt.text(idx, y, f'{int(y):,}', fontsize=10, color='black', ha='center', va='bottom')\n",
    "\n",
    "plt.xlabel('')\n",
    "plt.ylabel('')\n",
    "\n",
    "plt.show()"
   ]
  },
  {
   "cell_type": "code",
   "execution_count": null,
   "metadata": {},
   "outputs": [],
   "source": [
    "cnt_df['ratio'] = round(cnt_df['cnt']/cnt_df['cnt'].sum(),3)\n",
    "print(f'총 캐릭터 수 : {len(df):,}')\n",
    "print(f\"크리처 보유 캐리 수 : {len(df[~df['itemName'].isna()]):,}\")\n",
    "print(f'크리처 종류 : {len(cnt_df):,}')\n",
    "print(f\"상위 15개 항목 : {cnt_df[:15]['cnt'].sum():,} ({cnt_df[:15]['ratio'].sum()})\")\n",
    "cnt_df[:15]"
   ]
  },
  {
   "cell_type": "code",
   "execution_count": null,
   "metadata": {},
   "outputs": [],
   "source": [
    "# 상위 유저 데이터\n",
    "user_infos = pd.read_csv('./data/user_infos_10000.csv')\n",
    "\n",
    "# 유저 크리쳐 데이터\n",
    "creature_info = pd.read_csv('./data/creature/active_creature_infos.csv')"
   ]
  },
  {
   "cell_type": "code",
   "execution_count": null,
   "metadata": {},
   "outputs": [],
   "source": [
    "user_infos.info()"
   ]
  },
  {
   "cell_type": "code",
   "execution_count": null,
   "metadata": {},
   "outputs": [],
   "source": [
    "# 상위 10,000\n",
    "rankers_ids = user_infos.sort_values('char_fame', ascending=False)[:10000]['character_ids'].values"
   ]
  },
  {
   "cell_type": "code",
   "execution_count": null,
   "metadata": {},
   "outputs": [],
   "source": [
    "cnt_df = pd.DataFrame(df[df['characterId'].isin(rankers_ids)]['itemName'].value_counts()[:20]).reset_index()\n",
    "cnt_df.columns = ['itemName','cnt']\n",
    "\n",
    "plt.figure(figsize=(30,6))\n",
    "x_label = cnt_df[:20]['itemName']\n",
    "y_label = cnt_df[:20]['cnt']\n",
    "sns.barplot(x = x_label, y = y_label)\n",
    "plt.xticks(rotation=45)\n",
    "for idx, y in enumerate(y_label):\n",
    "    plt.text(idx, y, f'{int(y):,}', fontsize=10, color='black', ha='center', va='bottom')\n",
    "    \n",
    "plt.show()"
   ]
  },
  {
   "cell_type": "code",
   "execution_count": null,
   "metadata": {},
   "outputs": [],
   "source": [
    "# 상위 30,000\n",
    "rankers_ids = user_infos.sort_values('char_fame', ascending=False)[:30000]['character_ids'].values\n",
    "\n",
    "cnt_df = pd.DataFrame(df[df['characterId'].isin(rankers_ids)]['itemName'].value_counts()[:20]).reset_index()\n",
    "cnt_df.columns = ['itemName','cnt']\n",
    "\n",
    "plt.figure(figsize=(30,6))\n",
    "x_label = cnt_df[:20]['itemName']\n",
    "y_label = cnt_df[:20]['cnt']\n",
    "sns.barplot(x = x_label, y = y_label)\n",
    "plt.xticks(rotation=45)\n",
    "for idx, y in enumerate(y_label):\n",
    "    plt.text(idx, y, f'{int(y):,}', fontsize=10, color='black', ha='center', va='bottom')\n",
    "    \n",
    "plt.show()"
   ]
  },
  {
   "cell_type": "code",
   "execution_count": null,
   "metadata": {},
   "outputs": [],
   "source": [
    "# 상위 100,000\n",
    "rankers_ids = user_infos.sort_values('char_fame', ascending=False)[:100000]['character_ids'].values\n",
    "\n",
    "cnt_df = pd.DataFrame(df[df['characterId'].isin(rankers_ids)]['itemName'].value_counts()[:20]).reset_index()\n",
    "cnt_df.columns = ['itemName','cnt']\n",
    "\n",
    "plt.figure(figsize=(30,6))\n",
    "x_label = cnt_df[:20]['itemName']\n",
    "y_label = cnt_df[:20]['cnt']\n",
    "sns.barplot(x = x_label, y = y_label)\n",
    "plt.xticks(rotation=45)\n",
    "for idx, y in enumerate(y_label):\n",
    "    plt.text(idx, y, f'{int(y):,}', fontsize=10, color='black', ha='center', va='bottom')\n",
    "    \n",
    "plt.show()"
   ]
  },
  {
   "cell_type": "code",
   "execution_count": null,
   "metadata": {},
   "outputs": [],
   "source": [
    "# 그외\n",
    "rankers_ids = user_infos.sort_values('char_fame', ascending=False)[100001:]['character_ids'].values\n",
    "\n",
    "cnt_df = pd.DataFrame(df[df['characterId'].isin(rankers_ids)]['itemName'].value_counts()[:20]).reset_index()\n",
    "cnt_df.columns = ['itemName','cnt']\n",
    "\n",
    "plt.figure(figsize=(30,6))\n",
    "x_label = cnt_df[:20]['itemName']\n",
    "y_label = cnt_df[:20]['cnt']\n",
    "sns.barplot(x = x_label, y = y_label)\n",
    "plt.xticks(rotation=45)\n",
    "for idx, y in enumerate(y_label):\n",
    "    plt.text(idx, y, f'{int(y):,}', fontsize=10, color='black', ha='center', va='bottom')\n",
    "    \n",
    "plt.show()"
   ]
  },
  {
   "cell_type": "code",
   "execution_count": null,
   "metadata": {},
   "outputs": [],
   "source": [
    "tmp"
   ]
  },
  {
   "cell_type": "code",
   "execution_count": null,
   "metadata": {},
   "outputs": [],
   "source": [
    "from collections import defaultdict\n",
    "ratios = defaultdict(list)\n",
    "\n",
    "for slice_point in range(10000,500001,50000):\n",
    "    rankers_ids = user_infos.sort_values('char_fame', ascending=False)[:slice_point]['character_ids'].values\n",
    "    tmp = df[df['characterId'].isin(rankers_ids)]['itemName'].value_counts()[:20].reset_index()[:20] \n",
    "    tmp['ratio'] = round(tmp['count']/(tmp['count'].sum()), 4)\n",
    "\n",
    "    for idx, row in tmp.iterrows():\n",
    "        ratios[row['itemName']].append(row['ratio'])\n",
    "\n",
    "rankers_ids = user_infos.sort_values('char_fame', ascending=False)['character_ids'].values\n",
    "tmp = df[df['characterId'].isin(rankers_ids)]['itemName'].value_counts()[:20].reset_index()[:20]\n",
    "tmp['ratio'] = round(tmp['count']/(tmp['count'].sum()), 4)\n",
    "\n",
    "for idx, row in tmp.iterrows():\n",
    "        ratios[row['itemName']].append(row['ratio'])"
   ]
  },
  {
   "cell_type": "code",
   "execution_count": null,
   "metadata": {},
   "outputs": [],
   "source": [
    "ratios.keys()"
   ]
  },
  {
   "cell_type": "code",
   "execution_count": null,
   "metadata": {},
   "outputs": [],
   "source": [
    "rankers_ids = user_infos.sort_values('char_fame', ascending=False)[:10000]['character_ids'].values\n",
    "df[df['characterId'].isin(rankers_ids)]['itemName'].value_counts()[:10]"
   ]
  },
  {
   "cell_type": "code",
   "execution_count": null,
   "metadata": {},
   "outputs": [],
   "source": [
    "gasungbi = creature_info[creature_info['모험가 명성'] == 810]['itemName'].values\n",
    "gasungbi"
   ]
  },
  {
   "cell_type": "code",
   "execution_count": null,
   "metadata": {},
   "outputs": [],
   "source": [
    "gasungbi = creature_info[creature_info['모험가 명성'] == 810]['itemName'].values\n",
    "gasungbi_array = np.array([float(0) for _ in range(11)])\n",
    "for col in gasungbi:\n",
    "    if len(ratios[col]) != 11 : continue\n",
    "    gasungbi_array += np.array(ratios[col])"
   ]
  },
  {
   "cell_type": "code",
   "execution_count": null,
   "metadata": {},
   "outputs": [],
   "source": [
    "plot_data = {\n",
    "    '신규 종결 크리쳐' : np.array(ratios['SD 흰 구름 전령 에를리히']) + np.array(ratios['SD 땅지기 슈므']),\n",
    "    '이전 종결 크리쳐' : np.array(ratios['순백의 나비 공주']) + np.array(ratios['축제의 여왕 페리아']) + np.array(ratios['쁘띠 폭룡왕 바칼']),\n",
    "    '신규 종결 크리쳐[기간제]' : np.array(ratios['SD 흰 구름 전령 에를리히[기간제]']),\n",
    "    '가성비 크리쳐' : gasungbi_array\n",
    "}"
   ]
  },
  {
   "cell_type": "code",
   "execution_count": null,
   "metadata": {},
   "outputs": [],
   "source": [
    "plt.figure(figsize=(20,8))\n",
    "\n",
    "x = [f'{i}만' for i in range(1,51, 5)] + ['전체']\n",
    "\n",
    "for (key, values) in (plot_data.items()):\n",
    "    sns.lineplot(x = x, y=values, label = key)\n",
    "    for idx, value in enumerate(values):\n",
    "        plt.text(idx, value, f'{value:.2%}')\n",
    "\n",
    "plt.show()"
   ]
  },
  {
   "cell_type": "code",
   "execution_count": null,
   "metadata": {},
   "outputs": [],
   "source": [
    "len(df) * 44.54"
   ]
  },
  {
   "cell_type": "code",
   "execution_count": null,
   "metadata": {},
   "outputs": [],
   "source": []
  },
  {
   "cell_type": "code",
   "execution_count": null,
   "metadata": {},
   "outputs": [],
   "source": []
  },
  {
   "cell_type": "code",
   "execution_count": null,
   "metadata": {},
   "outputs": [],
   "source": []
  },
  {
   "cell_type": "markdown",
   "metadata": {},
   "source": [
    "#크리쳐 스킨"
   ]
  },
  {
   "cell_type": "code",
   "execution_count": null,
   "metadata": {},
   "outputs": [],
   "source": [
    "cnt_df = pd.DataFrame(clone_creature['clone_itemName'].value_counts()).reset_index()\n",
    "cnt_df.columns = ['itemName','cnt']\n",
    "\n",
    "plt.figure(figsize=(30,6))\n",
    "x_label = cnt_df[:30]['itemName']\n",
    "y_label = cnt_df[:30]['cnt']\n",
    "sns.barplot(x = x_label, y = y_label)\n",
    "plt.xticks(rotation=45)\n",
    "for idx, y in enumerate(y_label):\n",
    "    plt.text(idx, y, f'{int(y):,}', fontsize=10, color='black', ha='center', va='bottom')\n",
    "    \n",
    "plt.show()\n",
    "\n",
    "cnt_df['ratio'] = round(cnt_df['cnt']/cnt_df['cnt'].sum(),3)\n",
    "print(f'총 캐릭터 수 : {len(df):,}')\n",
    "print(f\"스킨 크리처 장착 수 : {len(df[~df['clone_itemName'].isna()]):,}\")\n",
    "print(f'크리처 종류 : {len(cnt_df):,}')\n",
    "print(f\"상위 30개 항목 : {cnt_df[:30]['cnt'].sum():,} ({cnt_df[:30]['ratio'].sum()})\")\n",
    "cnt_df[:30]"
   ]
  },
  {
   "cell_type": "code",
   "execution_count": null,
   "metadata": {},
   "outputs": [],
   "source": [
    "def get_item_detail_info(itemId):\n",
    "    url = f'https://api.neople.co.kr/df/items/{itemId}?apikey={api_key}'\n",
    "    \n",
    "    res = requests.get(url)\n",
    "    \n",
    "    if res.status_code == 200:\n",
    "        return res\n",
    "    \n",
    "    return \n",
    "res = get_item_detail_info(df.iloc[0]['itemId'])"
   ]
  },
  {
   "cell_type": "code",
   "execution_count": null,
   "metadata": {},
   "outputs": [],
   "source": [
    "res.json()"
   ]
  },
  {
   "cell_type": "code",
   "execution_count": null,
   "metadata": {},
   "outputs": [],
   "source": [
    "clone_creature[clone_creature['clone_itemName'] == '흑빙룡 아퀼로']"
   ]
  },
  {
   "cell_type": "code",
   "execution_count": null,
   "metadata": {},
   "outputs": [],
   "source": [
    "len(df[~df['clone_itemName'].isna()])/len(df)"
   ]
  },
  {
   "cell_type": "code",
   "execution_count": null,
   "metadata": {},
   "outputs": [],
   "source": []
  },
  {
   "cell_type": "markdown",
   "metadata": {},
   "source": [
    "## 주요 크리쳐 거래 현황"
   ]
  },
  {
   "cell_type": "code",
   "execution_count": null,
   "metadata": {},
   "outputs": [],
   "source": [
    "new_creature_sume = pd.read_csv('./data/creature/trade/슈므_trade.csv')\n",
    "new_creature_eli = pd.read_csv('./data/creature/trade/에를리히_trade.csv')\n",
    "old_creature_feria = pd.read_csv('./data/creature/trade/페리아_trade.csv')\n",
    "seria = pd.read_csv('./data/creature/trade/다정한 세리아 알_trade.csv')"
   ]
  },
  {
   "cell_type": "code",
   "execution_count": null,
   "metadata": {},
   "outputs": [],
   "source": [
    "def make_plot_data(data):\n",
    "    data['soldDate'] = pd.to_datetime(data['soldDate'])\n",
    "    price = data.set_index('soldDate').resample('6H')['unitPrice'].mean().reset_index()\n",
    "    cnt = data.set_index('soldDate').resample('6H')['count'].count().reset_index()\n",
    "    price['unitPrice'] = price['unitPrice'].astype('float32')\n",
    "    return pd.merge(price, cnt, on='soldDate', how='inner')\n"
   ]
  },
  {
   "cell_type": "code",
   "execution_count": null,
   "metadata": {},
   "outputs": [],
   "source": [
    "# new_creature_eli['soldDate'] = pd.to_datetime(new_creature_eli['soldDate'])\n",
    "\n",
    "eli_df = make_plot_data(new_creature_eli)\n",
    "sume_df = make_plot_data(new_creature_sume)\n",
    "old_creature_feria_df = make_plot_data(old_creature_feria)\n",
    "seria_df = make_plot_data(seria)"
   ]
  },
  {
   "cell_type": "code",
   "execution_count": null,
   "metadata": {},
   "outputs": [],
   "source": [
    "def draw_sold_price_quantity(df):\n",
    "    def format_with_commas(value, _):\n",
    "        return \"{:,.0f}\".format(value)\n",
    "    \n",
    "    x_values = df['soldDate'].dt.strftime('%m-%d %H:%M')\n",
    "    \n",
    "    x = [i for i in range(len(x_values))]\n",
    "\n",
    "    fig, ax1 = plt.subplots(figsize=(20,6))\n",
    "    sns.barplot(data=df, x = x, y = 'count', ax = ax1, label = '판매 수량')\n",
    "    ax1.set_ylabel('판매수량', color='b')\n",
    "    ax1.tick_params('y', colors='b')\n",
    "\n",
    "    # # 두 번째 Y축에 대한 플로팅\n",
    "    ax2 = ax1.twinx()\n",
    "    sns.lineplot(data=df, x = x, y = 'unitPrice', ax = ax2, label = '평균 판매 가격', color='r', marker='o')\n",
    "    ax2.set_ylabel('평균 판매 가격', color='r')\n",
    "    ax2.tick_params('y', colors='r')\n",
    "    ax2.yaxis.set_major_formatter(FuncFormatter(format_with_commas))\n",
    "\n",
    "    # # 범례 추가\n",
    "    lines, labels = ax1.get_legend_handles_labels()\n",
    "    lines2, labels2 = ax2.get_legend_handles_labels()\n",
    "    ax1.legend().set_visible(False)  # 범례 숨기기\n",
    "    ax2.legend(lines + lines2, labels + labels2, loc='upper left')\n",
    "    \n",
    "    ax1.set_xticks(x, labels=x_values)\n",
    "\n",
    "    plt.xticks(rotation=45)\n",
    "    # 그래프 제목\n",
    "    plt.title('날짜별 크리쳐 판매수량과 평균 가격')\n",
    "    plt.show()"
   ]
  },
  {
   "cell_type": "code",
   "execution_count": null,
   "metadata": {},
   "outputs": [],
   "source": [
    "draw_sold_price_quantity(eli_df)"
   ]
  },
  {
   "cell_type": "code",
   "execution_count": null,
   "metadata": {},
   "outputs": [],
   "source": [
    "draw_sold_price_quantity(sume_df)\n"
   ]
  },
  {
   "cell_type": "code",
   "execution_count": null,
   "metadata": {},
   "outputs": [],
   "source": [
    "draw_sold_price_quantity(old_creature_feria_df)\n"
   ]
  },
  {
   "cell_type": "code",
   "execution_count": null,
   "metadata": {},
   "outputs": [],
   "source": [
    "draw_sold_price_quantity(seria_df)\n"
   ]
  },
  {
   "cell_type": "code",
   "execution_count": null,
   "metadata": {},
   "outputs": [],
   "source": []
  },
  {
   "cell_type": "code",
   "execution_count": null,
   "metadata": {},
   "outputs": [],
   "source": []
  },
  {
   "cell_type": "code",
   "execution_count": null,
   "metadata": {},
   "outputs": [],
   "source": [
    "import pandas as pd\n",
    "import seaborn as sns\n",
    "import matplotlib.pyplot as plt\n",
    "import random\n",
    "from datetime import datetime, timedelta\n",
    "\n",
    "# 존재하지 않는 시간대를 포함한 가상의 거래 데이터 생성\n",
    "def generate_sample_data(start_time, end_time, interval_minutes):\n",
    "    current_time = start_time\n",
    "    data = {'Timestamp': [], 'Volume': []}\n",
    "\n",
    "    while current_time <= end_time:\n",
    "        # 80% 확률로 거래가 발생하도록 설정\n",
    "        if random.random() < 0.8:\n",
    "            data['Timestamp'].append(current_time)\n",
    "            data['Volume'].append(random.randint(1, 100))\n",
    "        \n",
    "        current_time += timedelta(minutes=interval_minutes)\n",
    "\n",
    "    return pd.DataFrame(data)\n",
    "\n",
    "# 시작 시간 및 간격 설정\n",
    "start_time = datetime(2024, 3, 11, 9, 0, 0)  # 예시 시작 시간\n",
    "end_time = datetime(2024, 3, 11, 17, 0, 0)    # 예시 종료 시간\n",
    "interval_minutes = 15  # 15분 간격으로 데이터 생성\n",
    "\n",
    "# 존재하지 않는 시간대를 포함한 데이터 생성\n",
    "sample_data = generate_sample_data(start_time, end_time, interval_minutes)\n",
    "\n",
    "# 시간을 기준으로 데이터 정렬\n",
    "sample_data = sample_data.sort_values('Timestamp')\n",
    "\n",
    "# 빈 시간대를 포함하여 모든 시간대 생성\n",
    "all_timestamps = pd.date_range(start=start_time, end=end_time, freq=f'{interval_minutes}T')\n",
    "\n",
    "# 빈 시간대를 추가하여 완전한 데이터셋 생성\n",
    "complete_data = pd.DataFrame({'Timestamp': all_timestamps})\n",
    "complete_data = pd.merge(complete_data, sample_data, on='Timestamp', how='left')\n",
    "complete_data['Volume'].fillna(0, inplace=True)\n",
    "\n",
    "# Seaborn을 사용하여 그래프 그리기\n",
    "sns.lineplot(x='Timestamp', y='Volume', data=complete_data, marker='o')\n",
    "plt.xlabel('Timestamp')\n",
    "plt.ylabel('Volume')\n",
    "plt.title('거래 그래프 (존재하지 않는 시간대 포함 예시)')\n",
    "plt.xticks(rotation=45)\n",
    "plt.show()\n"
   ]
  },
  {
   "cell_type": "code",
   "execution_count": null,
   "metadata": {},
   "outputs": [],
   "source": [
    "user = pd.read_csv('./data/user_infos_10000.csv')"
   ]
  },
  {
   "cell_type": "code",
   "execution_count": null,
   "metadata": {},
   "outputs": [],
   "source": [
    "user.head()"
   ]
  },
  {
   "cell_type": "markdown",
   "metadata": {},
   "source": [
    "## 모험단 정보 추가"
   ]
  },
  {
   "cell_type": "code",
   "execution_count": null,
   "metadata": {},
   "outputs": [],
   "source": [
    "user = pd.read_csv('./data/user_infos_10000.csv')\n",
    "creature_info = pd.read_csv('/Users/seokholee/이모저모/dnf/data/creature/user_creature_data.csv')\n",
    "\n",
    "user = user.rename(columns={'character_ids':'characterId'})\n",
    "creature_info = pd.merge(creature_info, user, how='inner', on = 'characterId' )"
   ]
  },
  {
   "cell_type": "code",
   "execution_count": null,
   "metadata": {},
   "outputs": [],
   "source": [
    "creature_info.groupby('adventureName')"
   ]
  },
  {
   "cell_type": "code",
   "execution_count": null,
   "metadata": {},
   "outputs": [],
   "source": []
  },
  {
   "cell_type": "code",
   "execution_count": null,
   "metadata": {},
   "outputs": [],
   "source": [
    "pd.DataFrame(creature_info.groupby('adventureName')['characterId'].count()).sort_values('characterId')"
   ]
  },
  {
   "cell_type": "code",
   "execution_count": null,
   "metadata": {},
   "outputs": [],
   "source": [
    "# 모험단 당 상위 그룹 캐릭터 분포\n",
    "\n",
    "plt.figure(figsize=(20,10))\n",
    "plt_df = creature_info.groupby('adventureName')['characterId'].count().value_counts()\n",
    "sns.barplot(x = plt_df.index, y = plt_df.values)\n",
    "plt.show()"
   ]
  },
  {
   "cell_type": "code",
   "execution_count": null,
   "metadata": {},
   "outputs": [],
   "source": [
    "# 상위 액티브 캐릭터에서 캐릭터가 2개 이상인 모험단중 가장 높은 명성 캐릭터 제외\n",
    "adventure_df = creature_info[['adventureName','characterId','itemName','char_fame']]\n",
    "adventure_multi_group_exclue_df = adventure_df.groupby('adventureName').apply(lambda x: x[x['char_fame'] < x['char_fame'].max()])\n"
   ]
  },
  {
   "cell_type": "code",
   "execution_count": null,
   "metadata": {},
   "outputs": [],
   "source": [
    "# 상위 액티브 캐릭터에서 캐릭터가 1개인 모험단\n",
    "filter_df = adventure_df['adventureName'].value_counts().reset_index()\n",
    "filter = filter_df[filter_df['count'] == 1]['adventureName'].values\n",
    "multi_advens = adventure_multi_group_df['adventureName'].unique()\n",
    "\n",
    "\n",
    "adventure_single_group_df = adventure_df[adventure_df['adventureName'].isin(filter)]\n",
    "adventure_multi_group_df = adventure_df[adventure_df['adventureName'].isin(multi_advens)]"
   ]
  },
  {
   "cell_type": "code",
   "execution_count": null,
   "metadata": {},
   "outputs": [],
   "source": [
    "cnt_df = pd.DataFrame(adventure_multi_group_df['itemName'].value_counts()).reset_index()\n",
    "cnt_df.columns = ['itemName','cnt']\n",
    "\n",
    "plt.figure(figsize=(15,6))\n",
    "x_label = cnt_df[:15]['itemName']\n",
    "y_label = cnt_df[:15]['cnt']\n",
    "sns.barplot(x = x_label, y = y_label)\n",
    "plt.xticks(rotation=45)\n",
    "for idx, y in enumerate(y_label):\n",
    "    plt.text(idx, y, f'{int(y):,}', fontsize=10, color='black', ha='center', va='bottom')\n",
    "\n",
    "plt.xlabel('')\n",
    "plt.ylabel('')\n",
    "\n",
    "plt.show()"
   ]
  },
  {
   "cell_type": "code",
   "execution_count": null,
   "metadata": {},
   "outputs": [],
   "source": [
    "cnt_df = pd.DataFrame(adventure_multi_group_exclue_df['itemName'].value_counts()).reset_index()\n",
    "cnt_df.columns = ['itemName','cnt']\n",
    "\n",
    "plt.figure(figsize=(15,6))\n",
    "x_label = cnt_df[:15]['itemName']\n",
    "y_label = cnt_df[:15]['cnt']\n",
    "sns.barplot(x = x_label, y = y_label)\n",
    "plt.xticks(rotation=45)\n",
    "for idx, y in enumerate(y_label):\n",
    "    plt.text(idx, y, f'{int(y):,}', fontsize=10, color='black', ha='center', va='bottom')\n",
    "\n",
    "plt.xlabel('')\n",
    "plt.ylabel('')\n",
    "\n",
    "plt.show()"
   ]
  },
  {
   "cell_type": "code",
   "execution_count": null,
   "metadata": {},
   "outputs": [],
   "source": [
    "cnt_df = pd.DataFrame(adventure_single_group_df['itemName'].value_counts()).reset_index()\n",
    "cnt_df.columns = ['itemName','cnt']\n",
    "\n",
    "plt.figure(figsize=(15,6))\n",
    "x_label = cnt_df[:15]['itemName']\n",
    "y_label = cnt_df[:15]['cnt']\n",
    "sns.barplot(x = x_label, y = y_label, color='blue', alpha = 0.6)\n",
    "plt.xticks(rotation=45)\n",
    "for idx, y in enumerate(y_label):\n",
    "    plt.text(idx, y, f'{int(y):,}', fontsize=10, color='black', ha='center', va='bottom')\n",
    "\n",
    "plt.xlabel('')\n",
    "plt.ylabel('')\n",
    "\n",
    "plt.show()"
   ]
  },
  {
   "cell_type": "code",
   "execution_count": null,
   "metadata": {},
   "outputs": [],
   "source": [
    "filter_data = cnt_df[cnt_df['itemName'].isin([\"WON'S 다정한 SD 세리아 Ver.2\", '[EVENT]다정한 SD 세리아 Ver.2]', \"다정한 SD 세리아 Ver.2\"])]['cnt'].sum()\n",
    "filter_data, filter_data/ len(cnt_df)"
   ]
  },
  {
   "cell_type": "code",
   "execution_count": null,
   "metadata": {},
   "outputs": [],
   "source": [
    "cnt_df[:15]"
   ]
  },
  {
   "cell_type": "code",
   "execution_count": null,
   "metadata": {},
   "outputs": [],
   "source": []
  },
  {
   "cell_type": "code",
   "execution_count": null,
   "metadata": {},
   "outputs": [],
   "source": [
    "cnt_df = pd.DataFrame(adventure_multi_group_df['itemName'].value_counts()).reset_index()\n",
    "cnt_df.columns = ['itemName','cnt']\n",
    "\n",
    "cnt_df2 = pd.DataFrame(adventure_multi_group_exclue_df['itemName'].value_counts()).reset_index()\n",
    "cnt_df2.columns = ['itemName','cnt']\n",
    "tmp = cnt_df2[cnt_df2['itemName'].isin(cnt_df[:15]['itemName'].values)]\n",
    "cnt_df = pd.merge(cnt_df, tmp, how = 'inner', on='itemName')\n",
    "\n",
    "cnt_df['감소율'] = round(1 -cnt_df['cnt_y'] / cnt_df['cnt_x'], 2)\n",
    "\n",
    "bar_width = 0.25  # 각 바의 너비\n",
    "\n",
    "index = np.arange(15)\n",
    "\n",
    "#plt.figure(figsize=(20,6))\n",
    "fig, ax1 = plt.subplots(figsize=(20,6))\n",
    "\n",
    "plt.bar(index , cnt_df['cnt_x'], bar_width, color = 'g', alpha=0.4, label = '2개 이상 육성')\n",
    "plt.bar(index + bar_width , cnt_df['cnt_y'], bar_width, color = 'b', alpha=0.4 , label = '2개 이상 육성(본캐 제외)')\n",
    "\n",
    "ax2 = ax1.twinx()\n",
    "plt.plot(index + bar_width/2 , cnt_df['감소율'], color='r', alpha=0.4, label = '본캐 제외시 감소율', marker='o')\n",
    "\n",
    "for idx, y in enumerate(cnt_df['감소율'].values):\n",
    "    plt.text(idx*0.985, y*1.005, f'{y:.0%}', fontsize=12, color='black', ha='center', va='bottom')\n",
    "\n",
    "ax1.set_xticks(np.arange(bar_width, 15 + bar_width, 1), cnt_df['itemName'].values, rotation=45)\n",
    "\n",
    "plt.xlabel('')\n",
    "plt.ylabel('')\n",
    "\n",
    "# # 범례 추가\n",
    "lines, labels = ax1.get_legend_handles_labels()\n",
    "lines2, labels2 = ax2.get_legend_handles_labels()\n",
    "ax1.legend().set_visible(False)  # 범례 숨기기\n",
    "ax2.legend(lines + lines2, labels + labels2, loc='upper right')\n",
    "\n",
    "plt.show()"
   ]
  },
  {
   "cell_type": "code",
   "execution_count": null,
   "metadata": {},
   "outputs": [],
   "source": []
  }
 ],
 "metadata": {
  "kernelspec": {
   "display_name": "dnf_study",
   "language": "python",
   "name": "python3"
  },
  "language_info": {
   "codemirror_mode": {
    "name": "ipython",
    "version": 3
   },
   "file_extension": ".py",
   "mimetype": "text/x-python",
   "name": "python",
   "nbconvert_exporter": "python",
   "pygments_lexer": "ipython3",
   "version": "3.7.12"
  }
 },
 "nbformat": 4,
 "nbformat_minor": 2
}
